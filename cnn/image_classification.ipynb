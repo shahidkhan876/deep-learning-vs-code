{
 "cells": [
  {
   "cell_type": "markdown",
   "id": "f38a1860",
   "metadata": {},
   "source": [
    "# CNN Image classification case study"
   ]
  },
  {
   "cell_type": "code",
   "execution_count": 3,
   "id": "38643a29",
   "metadata": {},
   "outputs": [],
   "source": [
    "#import libraries\n",
    "import tensorflow as tf\n",
    "import numpy as np\n",
    "import matplotlib.pyplot as plt"
   ]
  },
  {
   "cell_type": "code",
   "execution_count": 7,
   "id": "da5273be",
   "metadata": {},
   "outputs": [],
   "source": [
    "# load the fashion mnist dataset\n",
    "fashion_mnist = tf.keras.datasets.fashion_mnist.load_data()\n",
    "fashion_mnist\n",
    "#seperating the training images and training labels in mnist dataset\n",
    "(train_images,train_labels),(test_images,test_labels)=fashion_mnist\n"
   ]
  },
  {
   "cell_type": "code",
   "execution_count": null,
   "id": "69f62f0c",
   "metadata": {},
   "outputs": [],
   "source": [
    "#shape of each dataset\n",
    "print(train_images.shape)\n",
    "print(train_labels.shape)\n",
    "\n"
   ]
  }
 ],
 "metadata": {
  "kernelspec": {
   "display_name": "tf_env",
   "language": "python",
   "name": "python3"
  },
  "language_info": {
   "codemirror_mode": {
    "name": "ipython",
    "version": 3
   },
   "file_extension": ".py",
   "mimetype": "text/x-python",
   "name": "python",
   "nbconvert_exporter": "python",
   "pygments_lexer": "ipython3",
   "version": "3.9.23"
  }
 },
 "nbformat": 4,
 "nbformat_minor": 5
}
