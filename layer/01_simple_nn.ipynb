{
 "cells": [
  {
   "cell_type": "markdown",
   "id": "93f8c913",
   "metadata": {},
   "source": [
    "# * Simple Neural Network "
   ]
  },
  {
   "cell_type": "code",
   "execution_count": 5,
   "id": "915c6e5a",
   "metadata": {},
   "outputs": [],
   "source": [
    "#import libraires\n",
    "import pandas as pd\n",
    "import numpy as np\n",
    "import seaborn as sns\n",
    "import matplotlib.pyplot as plt\n",
    "from sklearn.model_selection import train_test_split\n",
    "from sklearn.preprocessing import StandardScaler\n",
    "# import tensorflow as tf"
   ]
  },
  {
   "cell_type": "code",
   "execution_count": 6,
   "id": "9ba7ede7",
   "metadata": {},
   "outputs": [],
   "source": [
    "import tensorflow as tf"
   ]
  },
  {
   "cell_type": "code",
   "execution_count": 7,
   "id": "2b1a9189",
   "metadata": {},
   "outputs": [],
   "source": [
    "#remove warnings\n",
    "import warnings\n",
    "warnings.filterwarnings('ignore')"
   ]
  },
  {
   "cell_type": "code",
   "execution_count": 10,
   "id": "aaef29af",
   "metadata": {},
   "outputs": [],
   "source": [
    "#load the dataset\n",
    "df = sns.load_dataset(\"titanic\")\n",
    "\n",
    "#preprocessing\n",
    "df.dropna(subset=['age','embarked'],inplace=True)\n",
    "\n",
    "#converting categorical variables to dummy variable\n",
    "df = pd.get_dummies(df,columns=['sex','embarked','class','who','deck'],drop_first=True)"
   ]
  },
  {
   "cell_type": "code",
   "execution_count": null,
   "id": "80391782",
   "metadata": {},
   "outputs": [],
   "source": [
    "#selecting features and target\n",
    "X = df.drop(['survived','alive','embark_town','adult_male','alone'],axis=1)\n",
    "y = df['survived']"
   ]
  },
  {
   "cell_type": "code",
   "execution_count": 12,
   "id": "281c5b07",
   "metadata": {},
   "outputs": [],
   "source": [
    "#splitting the dataset model selection\n",
    "X_train,X_test,y_train,y_test = train_test_split(X,y,test_size=0.2,random_state=42\n",
    "                                                 )"
   ]
  },
  {
   "cell_type": "code",
   "execution_count": 13,
   "id": "93fe6182",
   "metadata": {},
   "outputs": [],
   "source": [
    "#standard scaler\n",
    "scaler = StandardScaler()\n",
    "X_train = scaler.fit_transform(X_train)\n",
    "X_test = scaler.transform(X_test)"
   ]
  },
  {
   "cell_type": "code",
   "execution_count": 17,
   "id": "a3787c23",
   "metadata": {},
   "outputs": [],
   "source": [
    "# Building  the model\n",
    "#define the model\n",
    "input_layer = tf.keras.layers.Dense(10,activation='relu')\n",
    "output_layer = tf.keras.layers.Dense(1,activation='sigmoid')"
   ]
  },
  {
   "cell_type": "code",
   "execution_count": 18,
   "id": "44b3fbdd",
   "metadata": {},
   "outputs": [],
   "source": [
    "#combine the model\n",
    "model = tf.keras.models.Sequential([input_layer,output_layer])"
   ]
  },
  {
   "cell_type": "code",
   "execution_count": 19,
   "id": "f07bd989",
   "metadata": {},
   "outputs": [],
   "source": [
    "#compile the model\n",
    "model.compile(optimizer='adam',loss='binary_crossentropy',metrics=['accuracy'])\n"
   ]
  },
  {
   "cell_type": "code",
   "execution_count": 20,
   "id": "54e18237",
   "metadata": {},
   "outputs": [
    {
     "name": "stdout",
     "output_type": "stream",
     "text": [
      "Epoch 1/10\n",
      "18/18 [==============================] - 1s 2ms/step - loss: 0.7556 - accuracy: 0.4868\n",
      "Epoch 2/10\n",
      "18/18 [==============================] - 0s 3ms/step - loss: 0.7034 - accuracy: 0.6063\n",
      "Epoch 3/10\n",
      "18/18 [==============================] - 0s 3ms/step - loss: 0.6606 - accuracy: 0.6467\n",
      "Epoch 4/10\n",
      "18/18 [==============================] - 0s 2ms/step - loss: 0.6253 - accuracy: 0.7293\n",
      "Epoch 5/10\n",
      "18/18 [==============================] - 0s 3ms/step - loss: 0.5951 - accuracy: 0.7487\n",
      "Epoch 6/10\n",
      "18/18 [==============================] - 0s 2ms/step - loss: 0.5695 - accuracy: 0.7575\n",
      "Epoch 7/10\n",
      "18/18 [==============================] - 0s 2ms/step - loss: 0.5477 - accuracy: 0.7575\n",
      "Epoch 8/10\n",
      "18/18 [==============================] - 0s 2ms/step - loss: 0.5285 - accuracy: 0.7733\n",
      "Epoch 9/10\n",
      "18/18 [==============================] - 0s 3ms/step - loss: 0.5114 - accuracy: 0.7803\n",
      "Epoch 10/10\n",
      "18/18 [==============================] - 0s 3ms/step - loss: 0.4966 - accuracy: 0.7821\n"
     ]
    },
    {
     "data": {
      "text/plain": [
       "<keras.callbacks.History at 0x19d11098fd0>"
      ]
     },
     "execution_count": 20,
     "metadata": {},
     "output_type": "execute_result"
    }
   ],
   "source": [
    "#train the model\n",
    "model.fit(X_train,y_train,epochs=10,batch_size=32,verbose=1)"
   ]
  },
  {
   "cell_type": "code",
   "execution_count": 21,
   "id": "2e4b8dae",
   "metadata": {},
   "outputs": [
    {
     "name": "stdout",
     "output_type": "stream",
     "text": [
      "5/5 [==============================] - 0s 4ms/step - loss: 0.5947 - accuracy: 0.7273\n",
      "Test Accuracy:0.7272727489471436\n",
      "Test loss:0.594682514667511\n"
     ]
    }
   ],
   "source": [
    "#Evaluating the model\n",
    "loss,accuracy = model.evaluate(X_test,y_test,verbose=1)\n",
    "print(f\"Test Accuracy:{accuracy}\")\n",
    "print(f\"Test loss:{loss}\")"
   ]
  },
  {
   "cell_type": "code",
   "execution_count": 24,
   "id": "fac36692",
   "metadata": {},
   "outputs": [
    {
     "name": "stdout",
     "output_type": "stream",
     "text": [
      "Epoch 1/10\n",
      "18/18 [==============================] - 1s 3ms/step - loss: 0.7007 - accuracy: 0.5958\n",
      "Epoch 2/10\n",
      "18/18 [==============================] - 0s 6ms/step - loss: 0.6361 - accuracy: 0.6731\n",
      "Epoch 3/10\n",
      "18/18 [==============================] - 0s 6ms/step - loss: 0.5891 - accuracy: 0.7065\n",
      "Epoch 4/10\n",
      "18/18 [==============================] - 0s 6ms/step - loss: 0.5525 - accuracy: 0.7399\n",
      "Epoch 5/10\n",
      "18/18 [==============================] - 0s 3ms/step - loss: 0.5224 - accuracy: 0.7698\n",
      "Epoch 6/10\n",
      "18/18 [==============================] - 0s 4ms/step - loss: 0.5001 - accuracy: 0.7979\n",
      "Epoch 7/10\n",
      "18/18 [==============================] - 0s 4ms/step - loss: 0.4823 - accuracy: 0.8032\n",
      "Epoch 8/10\n",
      "18/18 [==============================] - 0s 4ms/step - loss: 0.4685 - accuracy: 0.8084\n",
      "Epoch 9/10\n",
      "18/18 [==============================] - 0s 3ms/step - loss: 0.4566 - accuracy: 0.8155\n",
      "Epoch 10/10\n",
      "18/18 [==============================] - 0s 4ms/step - loss: 0.4476 - accuracy: 0.8207\n",
      "5/5 [==============================] - 0s 6ms/step - loss: 0.4869 - accuracy: 0.7692\n",
      "Test Accuracy:0.7692307829856873\n",
      "Test loss:0.4868663549423218\n"
     ]
    }
   ],
   "source": [
    "#import libraires\n",
    "import pandas as pd\n",
    "import numpy as np\n",
    "import seaborn as sns\n",
    "import matplotlib.pyplot as plt\n",
    "from sklearn.model_selection import train_test_split\n",
    "from sklearn.preprocessing import StandardScaler\n",
    "import tensorflow as tf\n",
    "\n",
    "#remove warnings\n",
    "import warnings\n",
    "warnings.filterwarnings('ignore')\n",
    "# %%time\n",
    "\n",
    "#load the dataset\n",
    "df = sns.load_dataset(\"titanic\")\n",
    "\n",
    "#preprocessing\n",
    "df.dropna(subset=['age','embarked'],inplace=True)\n",
    "\n",
    "#converting categorical variables to dummy variable\n",
    "df = pd.get_dummies(df,columns=['sex','embarked','class','who','deck'],drop_first=True)\n",
    "\n",
    "#selecting features and target\n",
    "X = df.drop(['survived','alive','embark_town','adult_male','alone'],axis=1)\n",
    "y = df['survived']\n",
    "\n",
    "#splitting the dataset model selection\n",
    "X_train,X_test,y_train,y_test = train_test_split(X,y,test_size=0.2,random_state=42)\n",
    "        \n",
    "#standard scaler\n",
    "scaler = StandardScaler()\n",
    "X_train = scaler.fit_transform(X_train)\n",
    "X_test = scaler.transform(X_test)\n",
    "\n",
    "# Building  the model\n",
    "#define the model\n",
    "input_layer = tf.keras.layers.Dense(10,activation='relu')\n",
    "output_layer = tf.keras.layers.Dense(1,activation='sigmoid')\n",
    "        \n",
    "#combine the model\n",
    "model = tf.keras.models.Sequential([input_layer,output_layer])\n",
    "#compile the model\n",
    "model.compile(optimizer='adam',loss='binary_crossentropy',metrics=['accuracy'])\n",
    "\n",
    "#train the model\n",
    "model.fit(X_train,y_train,epochs=10,batch_size=32,verbose=1)\n",
    "\n",
    "#Evaluating the model\n",
    "loss,accuracy = model.evaluate(X_test,y_test,verbose=1)\n",
    "print(f\"Test Accuracy:{accuracy}\")\n",
    "print(f\"Test loss:{loss}\")"
   ]
  },
  {
   "cell_type": "markdown",
   "id": "ee3a4115",
   "metadata": {},
   "source": [
    "# Assignment Plotting and testing valudation loss"
   ]
  },
  {
   "cell_type": "code",
   "execution_count": 27,
   "id": "8e06b889",
   "metadata": {},
   "outputs": [
    {
     "name": "stdout",
     "output_type": "stream",
     "text": [
      "Epoch 1/10\n",
      "15/15 [==============================] - 1s 18ms/step - loss: 0.7274 - accuracy: 0.6769 - val_loss: 0.7105 - val_accuracy: 0.7018\n",
      "Epoch 2/10\n",
      "15/15 [==============================] - 0s 6ms/step - loss: 0.6726 - accuracy: 0.7297 - val_loss: 0.6660 - val_accuracy: 0.7456\n",
      "Epoch 3/10\n",
      "15/15 [==============================] - 0s 6ms/step - loss: 0.6284 - accuracy: 0.7604 - val_loss: 0.6314 - val_accuracy: 0.7544\n",
      "Epoch 4/10\n",
      "15/15 [==============================] - 0s 5ms/step - loss: 0.5941 - accuracy: 0.7648 - val_loss: 0.6068 - val_accuracy: 0.7544\n",
      "Epoch 5/10\n",
      "15/15 [==============================] - 0s 5ms/step - loss: 0.5671 - accuracy: 0.7736 - val_loss: 0.5846 - val_accuracy: 0.7632\n",
      "Epoch 6/10\n",
      "15/15 [==============================] - 0s 5ms/step - loss: 0.5433 - accuracy: 0.7890 - val_loss: 0.5690 - val_accuracy: 0.7719\n",
      "Epoch 7/10\n",
      "15/15 [==============================] - 0s 5ms/step - loss: 0.5237 - accuracy: 0.7956 - val_loss: 0.5528 - val_accuracy: 0.7719\n",
      "Epoch 8/10\n",
      "15/15 [==============================] - 0s 6ms/step - loss: 0.5058 - accuracy: 0.8000 - val_loss: 0.5394 - val_accuracy: 0.7895\n",
      "Epoch 9/10\n",
      "15/15 [==============================] - 0s 6ms/step - loss: 0.4918 - accuracy: 0.8066 - val_loss: 0.5269 - val_accuracy: 0.7895\n",
      "Epoch 10/10\n",
      "15/15 [==============================] - 0s 6ms/step - loss: 0.4796 - accuracy: 0.8088 - val_loss: 0.5187 - val_accuracy: 0.7895\n",
      "5/5 [==============================] - 0s 5ms/step - loss: 0.4777 - accuracy: 0.7972\n",
      "Test Accuracy:0.7972028255462646\n",
      "Test loss:0.4776628315448761\n"
     ]
    },
    {
     "data": {
      "image/png": "[encoded data removed]",
      "text/plain": [
       "<Figure size 640x480 with 1 Axes>"
      ]
     },
     "metadata": {},
     "output_type": "display_data"
    },
    {
     "data": {
      "image/png": "[encoded data removed]",
      "text/plain": [
       "<Figure size 640x480 with 1 Axes>"
      ]
     },
     "metadata": {},
     "output_type": "display_data"
    }
   ],
   "source": [
    "#import libraires\n",
    "import pandas as pd\n",
    "import numpy as np\n",
    "import seaborn as sns\n",
    "import matplotlib.pyplot as plt\n",
    "from sklearn.model_selection import train_test_split\n",
    "from sklearn.preprocessing import StandardScaler\n",
    "import tensorflow as tf\n",
    "\n",
    "#remove warnings\n",
    "import warnings\n",
    "warnings.filterwarnings('ignore')\n",
    "# %%time\n",
    "\n",
    "#load the dataset\n",
    "df = sns.load_dataset(\"titanic\")\n",
    "\n",
    "#preprocessing\n",
    "df.dropna(subset=['age','embarked'],inplace=True)\n",
    "\n",
    "#converting categorical variables to dummy variable\n",
    "df = pd.get_dummies(df,columns=['sex','embarked','class','who','deck'],drop_first=True)\n",
    "\n",
    "#selecting features and target\n",
    "X = df.drop(['survived','alive','embark_town','adult_male','alone'],axis=1)\n",
    "y = df['survived']\n",
    "\n",
    "#splitting the dataset model selection\n",
    "X_train,X_test,y_train,y_test = train_test_split(X,y,test_size=0.2,random_state=42)\n",
    "        \n",
    "#standard scaler\n",
    "scaler = StandardScaler()\n",
    "X_train = scaler.fit_transform(X_train)\n",
    "X_test = scaler.transform(X_test)\n",
    "\n",
    "# Building  the model\n",
    "#define the model\n",
    "input_layer = tf.keras.layers.Dense(10,activation='relu')\n",
    "output_layer = tf.keras.layers.Dense(1,activation='sigmoid')\n",
    "        \n",
    "#combine the model\n",
    "model = tf.keras.models.Sequential([input_layer,output_layer])\n",
    "#compile the model\n",
    "model.compile(optimizer='adam',loss='binary_crossentropy',metrics=['accuracy'])\n",
    "\n",
    "#train the model\n",
    "history = model.fit(X_train,y_train,epochs=10,batch_size=32,verbose=1,validation_split=0.2)\n",
    "\n",
    "#Evaluating the model\n",
    "loss,accuracy = model.evaluate(X_test,y_test,verbose=1)\n",
    "print(f\"Test Accuracy:{accuracy}\")\n",
    "print(f\"Test loss:{loss}\")\n",
    "\n",
    "#plotting and validation loss\n",
    "plt.plot(history.history['loss'])\n",
    "plt.plot(history.history['val_loss'])\n",
    "plt.title(\"Model Loss\")\n",
    "plt.ylabel(\"Loss\")\n",
    "plt.xlabel(\"Epoch\")\n",
    "plt.legend(['Train', 'Validation'], loc='upper right')   # ✅ fixed\n",
    "plt.show()\n",
    "\n",
    "#plotting and validation loss\n",
    "plt.plot(history.history['accuracy'])\n",
    "plt.plot(history.history['val_accuracy'])\n",
    "plt.title(\"Model accuracy\")\n",
    "plt.ylabel(\"accuracy\")\n",
    "plt.xlabel(\"Epoch\")\n",
    "plt.legend(['Train', 'Validation'], loc='upper right')   # ✅ fixed\n",
    "plt.show()\n",
    "\n"
   ]
  }
 ],
 "metadata": {
  "kernelspec": {
   "display_name": "Python 3",
   "language": "python",
   "name": "python3"
  },
  "language_info": {
   "codemirror_mode": {
    "name": "ipython",
    "version": 3
   },
   "file_extension": ".py",
   "mimetype": "text/x-python",
   "name": "python",
   "nbconvert_exporter": "python",
   "pygments_lexer": "ipython3",
   "version": "3.13.0"
  }
 },
 "nbformat": 4,
 "nbformat_minor": 5
}
