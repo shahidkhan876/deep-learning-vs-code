{
 "cells": [
  {
   "cell_type": "markdown",
   "id": "e3974257",
   "metadata": {},
   "source": [
    "# OpenCV and Images"
   ]
  },
  {
   "cell_type": "code",
   "execution_count": 1,
   "id": "14a897b3",
   "metadata": {},
   "outputs": [
    {
     "name": "stdout",
     "output_type": "stream",
     "text": [
      "Note: you may need to restart the kernel to use updated packages.\n"
     ]
    },
    {
     "name": "stderr",
     "output_type": "stream",
     "text": [
      "\n",
      "[notice] A new release of pip is available: 24.2 -> 25.2\n",
      "[notice] To update, run: python.exe -m pip install --upgrade pip\n"
     ]
    },
    {
     "name": "stdout",
     "output_type": "stream",
     "text": [
      "Collecting opencv-python\n",
      "  Using cached opencv_python-4.12.0.88-cp37-abi3-win_amd64.whl.metadata (19 kB)\n",
      "Requirement already satisfied: numpy<2.3.0,>=2 in c:\\users\\hkt\\appdata\\local\\programs\\python\\python313\\lib\\site-packages (from opencv-python) (2.1.3)\n",
      "Using cached opencv_python-4.12.0.88-cp37-abi3-win_amd64.whl (39.0 MB)\n",
      "Installing collected packages: opencv-python\n",
      "Successfully installed opencv-python-4.12.0.88\n"
     ]
    }
   ],
   "source": [
    "pip install opencv-python"
   ]
  },
  {
   "cell_type": "code",
   "execution_count": 2,
   "id": "05c6a634",
   "metadata": {},
   "outputs": [],
   "source": [
    "#import librarie\n",
    "import numpy as np\n",
    "import cv2 as cv"
   ]
  },
  {
   "cell_type": "code",
   "execution_count": 3,
   "id": "aacfa52d",
   "metadata": {},
   "outputs": [],
   "source": [
    "#read the image\n",
    "img = cv.imread(\"./image/rona.jpg\")"
   ]
  },
  {
   "cell_type": "code",
   "execution_count": null,
   "id": "92cdb05d",
   "metadata": {},
   "outputs": [],
   "source": [
    "#show the image\n",
    "cv.imshow(\"image\",img)\n",
    "cv.waitKey(0)\n",
    "cv.destroyAllWindows()\n"
   ]
  },
  {
   "cell_type": "code",
   "execution_count": 4,
   "id": "8bd56958",
   "metadata": {},
   "outputs": [
    {
     "data": {
      "text/plain": [
       "(1312, 736, 3)"
      ]
     },
     "execution_count": 4,
     "metadata": {},
     "output_type": "execute_result"
    }
   ],
   "source": [
    "#check the size of img\n",
    "img.shape"
   ]
  },
  {
   "cell_type": "code",
   "execution_count": null,
   "id": "1f0ae53c",
   "metadata": {},
   "outputs": [],
   "source": [
    "#convert the img into greyscale\n",
    "grey_scale = cv.cvtColor(img,cv.COLOR_BGR2GRAY)"
   ]
  },
  {
   "cell_type": "code",
   "execution_count": 9,
   "id": "3eeee0fb",
   "metadata": {},
   "outputs": [
    {
     "data": {
      "text/plain": [
       "(1312, 736)"
      ]
     },
     "execution_count": 9,
     "metadata": {},
     "output_type": "execute_result"
    }
   ],
   "source": [
    "grey_scale.shape"
   ]
  },
  {
   "cell_type": "code",
   "execution_count": null,
   "id": "3293f743",
   "metadata": {},
   "outputs": [],
   "source": []
  }
 ],
 "metadata": {
  "kernelspec": {
   "display_name": "Python 3",
   "language": "python",
   "name": "python3"
  },
  "language_info": {
   "codemirror_mode": {
    "name": "ipython",
    "version": 3
   },
   "file_extension": ".py",
   "mimetype": "text/x-python",
   "name": "python",
   "nbconvert_exporter": "python",
   "pygments_lexer": "ipython3",
   "version": "3.13.0"
  }
 },
 "nbformat": 4,
 "nbformat_minor": 5
}
